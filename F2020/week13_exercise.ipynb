{
 "cells": [
  {
   "cell_type": "code",
   "execution_count": null,
   "metadata": {},
   "outputs": [],
   "source": [
    "# Week13 exercise"
   ]
  },
  {
   "cell_type": "code",
   "execution_count": null,
   "metadata": {},
   "outputs": [],
   "source": [
    "import numpy as np\n",
    "import matplotlib.pyplot as plt"
   ]
  },
  {
   "cell_type": "code",
   "execution_count": null,
   "metadata": {},
   "outputs": [],
   "source": [
    "# one dimensional advection equation"
   ]
  },
  {
   "cell_type": "code",
   "execution_count": null,
   "metadata": {},
   "outputs": [],
   "source": [
    "# setting up model parameters\n",
    "dt=0.1\n",
    "L=5\n",
    "Nt=500\n",
    "Nx=20\n",
    "U=0.3\n",
    "x=np.linspace(-L,L,Nx)\n",
    "dx=2*L/Nx\n",
    "C=U*dt/dx\n",
    "print('Courant number is '+str(C))"
   ]
  },
  {
   "cell_type": "code",
   "execution_count": null,
   "metadata": {},
   "outputs": [],
   "source": [
    "# setting up grid and initial condition\n",
    "C=np.zeros((Nx,Nt))\n",
    "C[:,0]=np.exp(-0.5*(x)**2)"
   ]
  },
  {
   "cell_type": "code",
   "execution_count": null,
   "metadata": {},
   "outputs": [],
   "source": [
    "# time stepping loop\n",
    "for n in range(0,Nt-1):\n",
    "    \n",
    "    # take care of the boundary points\n",
    "    C[0,n+1]=C[0,n]-U*dt/(2*dx)*(C[1,n]-C[Nx-1,n])\n",
    "    C[Nx-1,n+1]=C[Nx-1,n]-U*dt/(2*dx)*(C[0,n]-C[Nx-2,n])\n",
    "    \n",
    "    for m in range(1,Nx-1):\n",
    "        C[m,n+1]=C[m,n]-U*dt/(2*dx)*(C[m+1,n]-C[m-1,n])"
   ]
  },
  {
   "cell_type": "code",
   "execution_count": null,
   "metadata": {},
   "outputs": [],
   "source": [
    "# plot the result \n",
    "for n in range(0,round(Nt/20)):\n",
    "    plt.plot(x,C[:,n*20],'.k-')\n",
    "    plt.title('time='+str(round(n*dt,3)))\n",
    "    plt.show()"
   ]
  },
  {
   "cell_type": "code",
   "execution_count": null,
   "metadata": {},
   "outputs": [],
   "source": []
  }
 ],
 "metadata": {
  "kernelspec": {
   "display_name": "Python 3",
   "language": "python",
   "name": "python3"
  },
  "language_info": {
   "codemirror_mode": {
    "name": "ipython",
    "version": 3
   },
   "file_extension": ".py",
   "mimetype": "text/x-python",
   "name": "python",
   "nbconvert_exporter": "python",
   "pygments_lexer": "ipython3",
   "version": "3.8.3"
  }
 },
 "nbformat": 4,
 "nbformat_minor": 4
}
