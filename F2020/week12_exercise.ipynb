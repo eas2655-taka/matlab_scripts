{
 "cells": [
  {
   "cell_type": "markdown",
   "metadata": {},
   "source": [
    "# Week12 exercise: Ocean P cycling"
   ]
  },
  {
   "cell_type": "code",
   "execution_count": null,
   "metadata": {},
   "outputs": [],
   "source": [
    "import numpy as np\n",
    "import matplotlib.pyplot as plt\n",
    "import scipy.linalg as linalg"
   ]
  },
  {
   "cell_type": "markdown",
   "metadata": {},
   "source": [
    "### 1. set parameters"
   ]
  },
  {
   "cell_type": "code",
   "execution_count": null,
   "metadata": {},
   "outputs": [],
   "source": [
    "VL = 3e16 \n",
    "VH = 1.6e16\n",
    "VD = 1.4e18\n",
    "C = 6e7\n",
    "M = 8e7\n",
    "lda = 3.2e-8\n",
    "# These are in SI units (mol, m, sec, ...)"
   ]
  },
  {
   "cell_type": "code",
   "execution_count": null,
   "metadata": {},
   "outputs": [],
   "source": [
    "# parameter normalized by volume\n",
    "cL = C/VL\n",
    "cH = C/VH\n",
    "cD = C/VD\n",
    "mH = M/VH\n",
    "mD = M/VD\n"
   ]
  },
  {
   "cell_type": "code",
   "execution_count": null,
   "metadata": {},
   "outputs": [],
   "source": [
    "# time axis : dt = 1 month\n",
    "dt = 60*60*24*30\n",
    "time = np.arange(0,120,1) # in months: 10 year time series\n",
    "N=np.size(time)\n",
    "P=np.zeros((3,N))\n",
    "# initialize P array\n",
    "P[:,0] = [2,2,2] # mmolP/m3\n"
   ]
  },
  {
   "cell_type": "markdown",
   "metadata": {},
   "source": [
    "### 2. time step loop"
   ]
  },
  {
   "cell_type": "code",
   "execution_count": null,
   "metadata": {},
   "outputs": [],
   "source": [
    "# set up model matrix T\n",
    "T = np.array([[-(cL+lda), 0, cL], \n",
    "              [cH, -(cH+mH+lda), mH], \n",
    "              [lda*VL/VD, cD+mD+lda*VH/VD, -(cD+mD)]\n",
    "             ])\n",
    "for n in range(1,N):\n",
    "    P[:,n]=linalg.expm(T*time[n]*dt)@P[:,0]"
   ]
  },
  {
   "cell_type": "markdown",
   "metadata": {},
   "source": [
    "### 3. visualize the result"
   ]
  },
  {
   "cell_type": "code",
   "execution_count": null,
   "metadata": {},
   "outputs": [],
   "source": [
    "plt.plot(P.T)\n",
    "plt.xlabel('time (months)')\n",
    "plt.ylabel('ocean P concentrations, m-mol/m3')\n",
    "plt.legend(['low lat surface','high lat surface','deep ocean'])\n",
    "plt.show()"
   ]
  },
  {
   "cell_type": "code",
   "execution_count": null,
   "metadata": {},
   "outputs": [],
   "source": []
  },
  {
   "cell_type": "code",
   "execution_count": null,
   "metadata": {},
   "outputs": [],
   "source": []
  },
  {
   "cell_type": "code",
   "execution_count": null,
   "metadata": {},
   "outputs": [],
   "source": []
  },
  {
   "cell_type": "code",
   "execution_count": null,
   "metadata": {},
   "outputs": [],
   "source": []
  }
 ],
 "metadata": {
  "kernelspec": {
   "display_name": "Python 3",
   "language": "python",
   "name": "python3"
  },
  "language_info": {
   "codemirror_mode": {
    "name": "ipython",
    "version": 3
   },
   "file_extension": ".py",
   "mimetype": "text/x-python",
   "name": "python",
   "nbconvert_exporter": "python",
   "pygments_lexer": "ipython3",
   "version": "3.8.3"
  }
 },
 "nbformat": 4,
 "nbformat_minor": 4
}
