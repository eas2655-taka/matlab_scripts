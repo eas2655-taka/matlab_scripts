{
 "cells": [
  {
   "cell_type": "code",
   "execution_count": 1,
   "metadata": {},
   "outputs": [],
   "source": [
    "# HW4 sample script"
   ]
  },
  {
   "cell_type": "code",
   "execution_count": 2,
   "metadata": {},
   "outputs": [],
   "source": [
    "import numpy as np\n",
    "import matplotlib.pyplot as plt\n",
    "import pandas as pd"
   ]
  },
  {
   "cell_type": "code",
   "execution_count": 3,
   "metadata": {},
   "outputs": [],
   "source": [
    "### load dataset"
   ]
  },
  {
   "cell_type": "code",
   "execution_count": 4,
   "metadata": {},
   "outputs": [],
   "source": [
    "files=['atlanta_temperature.tsv','bos_temp.tsv','anchorage_temp.tsv','pasadena_temp.tsv']\n",
    "### set up data matrix, after 1960-\n",
    "year=np.arange(1960,2020,1)\n",
    "N=np.size(year)\n",
    "JAN=np.zeros((4,N))\n",
    "JUL=np.zeros((4,N))\n",
    "index=0\n",
    "for fn in files:\n",
    "    data=np.genfromtxt('DATA/'+fn,delimiter='\\t')\n",
    "    yr=data[:,0]\n",
    "    jan=data[:,1] # extract jan temp\n",
    "    jul=data[:,7] # extract jul temp\n",
    "    ind=np.where(yr>=1960)\n",
    "    JAN[index,:]=jan[ind]\n",
    "    JUL[index,:]=jul[ind]\n",
    "    index=index+1"
   ]
  },
  {
   "cell_type": "code",
   "execution_count": 5,
   "metadata": {},
   "outputs": [],
   "source": [
    "### apply mask to missing data\n",
    "JAN[JAN==-999]=np.nan\n",
    "JUL[JUL==-999]=np.nan\n",
    "### apply mask to the missing data\n",
    "JUL=np.ma.array(JUL,mask=np.isnan(JUL)) # then mask the missing value with Nans\n",
    "JAN=np.ma.array(JAN,mask=np.isnan(JAN))"
   ]
  },
  {
   "cell_type": "code",
   "execution_count": 6,
   "metadata": {},
   "outputs": [],
   "source": [
    "### calculate regression coefficient and R2, to do so, I need to calculate the covariance between temperature and time"
   ]
  },
  {
   "cell_type": "code",
   "execution_count": 7,
   "metadata": {},
   "outputs": [],
   "source": [
    "JUL1=np.append(JUL,[year],axis=0) # first append the time axis\n",
    "C_JUL=np.ma.cov(JUL1,allow_masked=True) \n",
    "JAN1=np.append(JAN,[year],axis=0) # first append the time axis\n",
    "C_JAN=np.ma.cov(JAN1,allow_masked=True) # "
   ]
  },
  {
   "cell_type": "code",
   "execution_count": 8,
   "metadata": {},
   "outputs": [],
   "source": [
    "### calculate the regression coefficient for July\n",
    "var_JUL=np.diag(C_JUL)\n",
    "a_JUL=C_JUL[0:4,4]/var_JUL[4] # regr coeff\n",
    "R2_JUL=C_JUL[0:4,4]**2/var_JUL[0:4]/var_JUL[4] # R2"
   ]
  },
  {
   "cell_type": "code",
   "execution_count": 9,
   "metadata": {},
   "outputs": [],
   "source": [
    "### calculate the regression coefficient for Jan\n",
    "var_JAN=np.diag(C_JAN)\n",
    "a_JAN=C_JAN[0:4,4]/var_JAN[4] # regr coeff\n",
    "R2_JAN=C_JAN[0:4,4]**2/var_JAN[0:4]/var_JAN[4] # R2"
   ]
  },
  {
   "cell_type": "code",
   "execution_count": 10,
   "metadata": {},
   "outputs": [
    {
     "name": "stdout",
     "output_type": "stream",
     "text": [
      "Regression coeff in Jan is similar to or greater than July values. \n"
     ]
    },
    {
     "data": {
      "image/png": "[encoded data removed]",
      "text/plain": [
       "<Figure size 432x288 with 1 Axes>"
      ]
     },
     "metadata": {
      "needs_background": "light"
     },
     "output_type": "display_data"
    }
   ],
   "source": [
    "### display regression coeff\n",
    "stn=['ATL','BOS','ANC','PAS']\n",
    "plt.plot(stn,a_JAN,'o')\n",
    "plt.plot(stn,a_JUL,'x')\n",
    "plt.legend(['JAN','JUL'])\n",
    "print('Regression coeff in Jan is similar to or greater than July values. ')"
   ]
  },
  {
   "cell_type": "code",
   "execution_count": 11,
   "metadata": {},
   "outputs": [
    {
     "name": "stdout",
     "output_type": "stream",
     "text": [
      "R2 value in July is always greater than that of January. \n"
     ]
    },
    {
     "data": {
      "image/png": "[encoded data removed]",
      "text/plain": [
       "<Figure size 432x288 with 1 Axes>"
      ]
     },
     "metadata": {
      "needs_background": "light"
     },
     "output_type": "display_data"
    }
   ],
   "source": [
    "### display R2\n",
    "stn=['ATL','BOS','ANC','PAS']\n",
    "plt.plot(stn,R2_JAN,'o')\n",
    "plt.plot(stn,R2_JUL,'x')\n",
    "plt.legend(['JAN','JUL'])\n",
    "print('R2 value in July is always greater than that of January. ')"
   ]
  },
  {
   "cell_type": "code",
   "execution_count": 12,
   "metadata": {},
   "outputs": [
    {
     "data": {
      "text/html": [
       "<style  type=\"text/css\" >\n",
       "</style><table id=\"T_e1ae3e1c_0118_11eb_a1bc_8c8590471f5f\" ><thead>    <tr>        <th class=\"blank level0\" ></th>        <th class=\"col_heading level0 col0\" >ATL</th>        <th class=\"col_heading level0 col1\" >BOS</th>        <th class=\"col_heading level0 col2\" >ANC</th>        <th class=\"col_heading level0 col3\" >PAS</th>    </tr></thead><tbody>\n",
       "                <tr>\n",
       "                        <th id=\"T_e1ae3e1c_0118_11eb_a1bc_8c8590471f5flevel0_row0\" class=\"row_heading level0 row0\" >ATL</th>\n",
       "                        <td id=\"T_e1ae3e1c_0118_11eb_a1bc_8c8590471f5frow0_col0\" class=\"data row0 col0\" >5.910000</td>\n",
       "                        <td id=\"T_e1ae3e1c_0118_11eb_a1bc_8c8590471f5frow0_col1\" class=\"data row0 col1\" >1.258559</td>\n",
       "                        <td id=\"T_e1ae3e1c_0118_11eb_a1bc_8c8590471f5frow0_col2\" class=\"data row0 col2\" >0.215339</td>\n",
       "                        <td id=\"T_e1ae3e1c_0118_11eb_a1bc_8c8590471f5frow0_col3\" class=\"data row0 col3\" >0.409620</td>\n",
       "            </tr>\n",
       "            <tr>\n",
       "                        <th id=\"T_e1ae3e1c_0118_11eb_a1bc_8c8590471f5flevel0_row1\" class=\"row_heading level0 row1\" >BOS</th>\n",
       "                        <td id=\"T_e1ae3e1c_0118_11eb_a1bc_8c8590471f5frow1_col0\" class=\"data row1 col0\" >1.258559</td>\n",
       "                        <td id=\"T_e1ae3e1c_0118_11eb_a1bc_8c8590471f5frow1_col1\" class=\"data row1 col1\" >4.575082</td>\n",
       "                        <td id=\"T_e1ae3e1c_0118_11eb_a1bc_8c8590471f5frow1_col2\" class=\"data row1 col2\" >0.811042</td>\n",
       "                        <td id=\"T_e1ae3e1c_0118_11eb_a1bc_8c8590471f5frow1_col3\" class=\"data row1 col3\" >0.600275</td>\n",
       "            </tr>\n",
       "            <tr>\n",
       "                        <th id=\"T_e1ae3e1c_0118_11eb_a1bc_8c8590471f5flevel0_row2\" class=\"row_heading level0 row2\" >ANC</th>\n",
       "                        <td id=\"T_e1ae3e1c_0118_11eb_a1bc_8c8590471f5frow2_col0\" class=\"data row2 col0\" >0.215339</td>\n",
       "                        <td id=\"T_e1ae3e1c_0118_11eb_a1bc_8c8590471f5frow2_col1\" class=\"data row2 col1\" >0.811042</td>\n",
       "                        <td id=\"T_e1ae3e1c_0118_11eb_a1bc_8c8590471f5frow2_col2\" class=\"data row2 col2\" >3.810788</td>\n",
       "                        <td id=\"T_e1ae3e1c_0118_11eb_a1bc_8c8590471f5frow2_col3\" class=\"data row2 col3\" >0.918755</td>\n",
       "            </tr>\n",
       "            <tr>\n",
       "                        <th id=\"T_e1ae3e1c_0118_11eb_a1bc_8c8590471f5flevel0_row3\" class=\"row_heading level0 row3\" >PAS</th>\n",
       "                        <td id=\"T_e1ae3e1c_0118_11eb_a1bc_8c8590471f5frow3_col0\" class=\"data row3 col0\" >0.409620</td>\n",
       "                        <td id=\"T_e1ae3e1c_0118_11eb_a1bc_8c8590471f5frow3_col1\" class=\"data row3 col1\" >0.600275</td>\n",
       "                        <td id=\"T_e1ae3e1c_0118_11eb_a1bc_8c8590471f5frow3_col2\" class=\"data row3 col2\" >0.918755</td>\n",
       "                        <td id=\"T_e1ae3e1c_0118_11eb_a1bc_8c8590471f5frow3_col3\" class=\"data row3 col3\" >4.544915</td>\n",
       "            </tr>\n",
       "    </tbody></table>"
      ],
      "text/plain": [
       "<pandas.io.formats.style.Styler at 0x7f7fd0f0c3a0>"
      ]
     },
     "execution_count": 12,
     "metadata": {},
     "output_type": "execute_result"
    }
   ],
   "source": [
    "### calculate covariance matrices, July\n",
    "C_JUL=np.ma.cov(JUL,allow_masked=True) \n",
    "df=pd.DataFrame(C_JUL,index=stn,columns=stn);\n",
    "df.style"
   ]
  },
  {
   "cell_type": "code",
   "execution_count": 13,
   "metadata": {},
   "outputs": [
    {
     "data": {
      "text/html": [
       "<style  type=\"text/css\" >\n",
       "</style><table id=\"T_e1b0b3c2_0118_11eb_a1bc_8c8590471f5f\" ><thead>    <tr>        <th class=\"blank level0\" ></th>        <th class=\"col_heading level0 col0\" >ATL</th>        <th class=\"col_heading level0 col1\" >BOS</th>        <th class=\"col_heading level0 col2\" >ANC</th>        <th class=\"col_heading level0 col3\" >PAS</th>    </tr></thead><tbody>\n",
       "                <tr>\n",
       "                        <th id=\"T_e1b0b3c2_0118_11eb_a1bc_8c8590471f5flevel0_row0\" class=\"row_heading level0 row0\" >ATL</th>\n",
       "                        <td id=\"T_e1b0b3c2_0118_11eb_a1bc_8c8590471f5frow0_col0\" class=\"data row0 col0\" >21.624438</td>\n",
       "                        <td id=\"T_e1b0b3c2_0118_11eb_a1bc_8c8590471f5frow0_col1\" class=\"data row0 col1\" >11.530045</td>\n",
       "                        <td id=\"T_e1b0b3c2_0118_11eb_a1bc_8c8590471f5frow0_col2\" class=\"data row0 col2\" >-12.829791</td>\n",
       "                        <td id=\"T_e1b0b3c2_0118_11eb_a1bc_8c8590471f5frow0_col3\" class=\"data row0 col3\" >-1.022978</td>\n",
       "            </tr>\n",
       "            <tr>\n",
       "                        <th id=\"T_e1b0b3c2_0118_11eb_a1bc_8c8590471f5flevel0_row1\" class=\"row_heading level0 row1\" >BOS</th>\n",
       "                        <td id=\"T_e1b0b3c2_0118_11eb_a1bc_8c8590471f5frow1_col0\" class=\"data row1 col0\" >11.530045</td>\n",
       "                        <td id=\"T_e1b0b3c2_0118_11eb_a1bc_8c8590471f5frow1_col1\" class=\"data row1 col1\" >16.432362</td>\n",
       "                        <td id=\"T_e1b0b3c2_0118_11eb_a1bc_8c8590471f5frow1_col2\" class=\"data row1 col2\" >-6.343548</td>\n",
       "                        <td id=\"T_e1b0b3c2_0118_11eb_a1bc_8c8590471f5frow1_col3\" class=\"data row1 col3\" >-3.645906</td>\n",
       "            </tr>\n",
       "            <tr>\n",
       "                        <th id=\"T_e1b0b3c2_0118_11eb_a1bc_8c8590471f5flevel0_row2\" class=\"row_heading level0 row2\" >ANC</th>\n",
       "                        <td id=\"T_e1b0b3c2_0118_11eb_a1bc_8c8590471f5frow2_col0\" class=\"data row2 col0\" >-12.829791</td>\n",
       "                        <td id=\"T_e1b0b3c2_0118_11eb_a1bc_8c8590471f5frow2_col1\" class=\"data row2 col1\" >-6.343548</td>\n",
       "                        <td id=\"T_e1b0b3c2_0118_11eb_a1bc_8c8590471f5frow2_col2\" class=\"data row2 col2\" >54.669819</td>\n",
       "                        <td id=\"T_e1b0b3c2_0118_11eb_a1bc_8c8590471f5frow2_col3\" class=\"data row2 col3\" >5.133317</td>\n",
       "            </tr>\n",
       "            <tr>\n",
       "                        <th id=\"T_e1b0b3c2_0118_11eb_a1bc_8c8590471f5flevel0_row3\" class=\"row_heading level0 row3\" >PAS</th>\n",
       "                        <td id=\"T_e1b0b3c2_0118_11eb_a1bc_8c8590471f5frow3_col0\" class=\"data row3 col0\" >-1.022978</td>\n",
       "                        <td id=\"T_e1b0b3c2_0118_11eb_a1bc_8c8590471f5frow3_col1\" class=\"data row3 col1\" >-3.645906</td>\n",
       "                        <td id=\"T_e1b0b3c2_0118_11eb_a1bc_8c8590471f5frow3_col2\" class=\"data row3 col2\" >5.133317</td>\n",
       "                        <td id=\"T_e1b0b3c2_0118_11eb_a1bc_8c8590471f5frow3_col3\" class=\"data row3 col3\" >7.779579</td>\n",
       "            </tr>\n",
       "    </tbody></table>"
      ],
      "text/plain": [
       "<pandas.io.formats.style.Styler at 0x7f7fd0e28760>"
      ]
     },
     "execution_count": 13,
     "metadata": {},
     "output_type": "execute_result"
    }
   ],
   "source": [
    "### calculate covariance matrices, July\n",
    "C_JAN=np.ma.cov(JAN,allow_masked=True)\n",
    "df=pd.DataFrame(C_JAN,index=stn,columns=stn);\n",
    "df.style"
   ]
  },
  {
   "cell_type": "code",
   "execution_count": 14,
   "metadata": {},
   "outputs": [
    {
     "name": "stdout",
     "output_type": "stream",
     "text": [
      "Covariance matrix is a positive symmetric matrix. Its amplitude is larger in winter months. \n"
     ]
    }
   ],
   "source": [
    "print('Covariance matrix is a positive symmetric matrix. Its amplitude is larger in winter months. ')"
   ]
  },
  {
   "cell_type": "code",
   "execution_count": 15,
   "metadata": {},
   "outputs": [
    {
     "data": {
      "text/html": [
       "<style  type=\"text/css\" >\n",
       "</style><table id=\"T_e1ba1ba6_0118_11eb_a1bc_8c8590471f5f\" ><thead>    <tr>        <th class=\"blank level0\" ></th>        <th class=\"col_heading level0 col0\" >ATL</th>        <th class=\"col_heading level0 col1\" >BOS</th>        <th class=\"col_heading level0 col2\" >ANC</th>        <th class=\"col_heading level0 col3\" >PAS</th>    </tr></thead><tbody>\n",
       "                <tr>\n",
       "                        <th id=\"T_e1ba1ba6_0118_11eb_a1bc_8c8590471f5flevel0_row0\" class=\"row_heading level0 row0\" >ATL</th>\n",
       "                        <td id=\"T_e1ba1ba6_0118_11eb_a1bc_8c8590471f5frow0_col0\" class=\"data row0 col0\" >1.000000</td>\n",
       "                        <td id=\"T_e1ba1ba6_0118_11eb_a1bc_8c8590471f5frow0_col1\" class=\"data row0 col1\" >0.242036</td>\n",
       "                        <td id=\"T_e1ba1ba6_0118_11eb_a1bc_8c8590471f5frow0_col2\" class=\"data row0 col2\" >0.045376</td>\n",
       "                        <td id=\"T_e1ba1ba6_0118_11eb_a1bc_8c8590471f5frow0_col3\" class=\"data row0 col3\" >0.078490</td>\n",
       "            </tr>\n",
       "            <tr>\n",
       "                        <th id=\"T_e1ba1ba6_0118_11eb_a1bc_8c8590471f5flevel0_row1\" class=\"row_heading level0 row1\" >BOS</th>\n",
       "                        <td id=\"T_e1ba1ba6_0118_11eb_a1bc_8c8590471f5frow1_col0\" class=\"data row1 col0\" >0.242036</td>\n",
       "                        <td id=\"T_e1ba1ba6_0118_11eb_a1bc_8c8590471f5frow1_col1\" class=\"data row1 col1\" >1.000000</td>\n",
       "                        <td id=\"T_e1ba1ba6_0118_11eb_a1bc_8c8590471f5frow1_col2\" class=\"data row1 col2\" >0.194239</td>\n",
       "                        <td id=\"T_e1ba1ba6_0118_11eb_a1bc_8c8590471f5frow1_col3\" class=\"data row1 col3\" >0.134573</td>\n",
       "            </tr>\n",
       "            <tr>\n",
       "                        <th id=\"T_e1ba1ba6_0118_11eb_a1bc_8c8590471f5flevel0_row2\" class=\"row_heading level0 row2\" >ANC</th>\n",
       "                        <td id=\"T_e1ba1ba6_0118_11eb_a1bc_8c8590471f5frow2_col0\" class=\"data row2 col0\" >0.045376</td>\n",
       "                        <td id=\"T_e1ba1ba6_0118_11eb_a1bc_8c8590471f5frow2_col1\" class=\"data row2 col1\" >0.194239</td>\n",
       "                        <td id=\"T_e1ba1ba6_0118_11eb_a1bc_8c8590471f5frow2_col2\" class=\"data row2 col2\" >1.000000</td>\n",
       "                        <td id=\"T_e1ba1ba6_0118_11eb_a1bc_8c8590471f5frow2_col3\" class=\"data row2 col3\" >0.219708</td>\n",
       "            </tr>\n",
       "            <tr>\n",
       "                        <th id=\"T_e1ba1ba6_0118_11eb_a1bc_8c8590471f5flevel0_row3\" class=\"row_heading level0 row3\" >PAS</th>\n",
       "                        <td id=\"T_e1ba1ba6_0118_11eb_a1bc_8c8590471f5frow3_col0\" class=\"data row3 col0\" >0.078490</td>\n",
       "                        <td id=\"T_e1ba1ba6_0118_11eb_a1bc_8c8590471f5frow3_col1\" class=\"data row3 col1\" >0.134573</td>\n",
       "                        <td id=\"T_e1ba1ba6_0118_11eb_a1bc_8c8590471f5frow3_col2\" class=\"data row3 col2\" >0.219708</td>\n",
       "                        <td id=\"T_e1ba1ba6_0118_11eb_a1bc_8c8590471f5frow3_col3\" class=\"data row3 col3\" >1.000000</td>\n",
       "            </tr>\n",
       "    </tbody></table>"
      ],
      "text/plain": [
       "<pandas.io.formats.style.Styler at 0x7f7fd0ef1520>"
      ]
     },
     "execution_count": 15,
     "metadata": {},
     "output_type": "execute_result"
    }
   ],
   "source": [
    "### calculate correlation matrix in July\n",
    "R_JUL=np.ma.corrcoef(JUL,allow_masked=True) \n",
    "df=pd.DataFrame(R_JUL,index=stn,columns=stn);\n",
    "df.style"
   ]
  },
  {
   "cell_type": "code",
   "execution_count": 16,
   "metadata": {},
   "outputs": [
    {
     "data": {
      "text/html": [
       "<style  type=\"text/css\" >\n",
       "</style><table id=\"T_e1be7aac_0118_11eb_a1bc_8c8590471f5f\" ><thead>    <tr>        <th class=\"blank level0\" ></th>        <th class=\"col_heading level0 col0\" >ATL</th>        <th class=\"col_heading level0 col1\" >BOS</th>        <th class=\"col_heading level0 col2\" >ANC</th>        <th class=\"col_heading level0 col3\" >PAS</th>    </tr></thead><tbody>\n",
       "                <tr>\n",
       "                        <th id=\"T_e1be7aac_0118_11eb_a1bc_8c8590471f5flevel0_row0\" class=\"row_heading level0 row0\" >ATL</th>\n",
       "                        <td id=\"T_e1be7aac_0118_11eb_a1bc_8c8590471f5frow0_col0\" class=\"data row0 col0\" >1.000000</td>\n",
       "                        <td id=\"T_e1be7aac_0118_11eb_a1bc_8c8590471f5frow0_col1\" class=\"data row0 col1\" >0.611658</td>\n",
       "                        <td id=\"T_e1be7aac_0118_11eb_a1bc_8c8590471f5frow0_col2\" class=\"data row0 col2\" >-0.373141</td>\n",
       "                        <td id=\"T_e1be7aac_0118_11eb_a1bc_8c8590471f5frow0_col3\" class=\"data row0 col3\" >-0.078273</td>\n",
       "            </tr>\n",
       "            <tr>\n",
       "                        <th id=\"T_e1be7aac_0118_11eb_a1bc_8c8590471f5flevel0_row1\" class=\"row_heading level0 row1\" >BOS</th>\n",
       "                        <td id=\"T_e1be7aac_0118_11eb_a1bc_8c8590471f5frow1_col0\" class=\"data row1 col0\" >0.611658</td>\n",
       "                        <td id=\"T_e1be7aac_0118_11eb_a1bc_8c8590471f5frow1_col1\" class=\"data row1 col1\" >1.000000</td>\n",
       "                        <td id=\"T_e1be7aac_0118_11eb_a1bc_8c8590471f5frow1_col2\" class=\"data row1 col2\" >-0.211645</td>\n",
       "                        <td id=\"T_e1be7aac_0118_11eb_a1bc_8c8590471f5frow1_col3\" class=\"data row1 col3\" >-0.320119</td>\n",
       "            </tr>\n",
       "            <tr>\n",
       "                        <th id=\"T_e1be7aac_0118_11eb_a1bc_8c8590471f5flevel0_row2\" class=\"row_heading level0 row2\" >ANC</th>\n",
       "                        <td id=\"T_e1be7aac_0118_11eb_a1bc_8c8590471f5frow2_col0\" class=\"data row2 col0\" >-0.373141</td>\n",
       "                        <td id=\"T_e1be7aac_0118_11eb_a1bc_8c8590471f5frow2_col1\" class=\"data row2 col1\" >-0.211645</td>\n",
       "                        <td id=\"T_e1be7aac_0118_11eb_a1bc_8c8590471f5frow2_col2\" class=\"data row2 col2\" >1.000000</td>\n",
       "                        <td id=\"T_e1be7aac_0118_11eb_a1bc_8c8590471f5frow2_col3\" class=\"data row2 col3\" >0.246826</td>\n",
       "            </tr>\n",
       "            <tr>\n",
       "                        <th id=\"T_e1be7aac_0118_11eb_a1bc_8c8590471f5flevel0_row3\" class=\"row_heading level0 row3\" >PAS</th>\n",
       "                        <td id=\"T_e1be7aac_0118_11eb_a1bc_8c8590471f5frow3_col0\" class=\"data row3 col0\" >-0.078273</td>\n",
       "                        <td id=\"T_e1be7aac_0118_11eb_a1bc_8c8590471f5frow3_col1\" class=\"data row3 col1\" >-0.320119</td>\n",
       "                        <td id=\"T_e1be7aac_0118_11eb_a1bc_8c8590471f5frow3_col2\" class=\"data row3 col2\" >0.246826</td>\n",
       "                        <td id=\"T_e1be7aac_0118_11eb_a1bc_8c8590471f5frow3_col3\" class=\"data row3 col3\" >1.000000</td>\n",
       "            </tr>\n",
       "    </tbody></table>"
      ],
      "text/plain": [
       "<pandas.io.formats.style.Styler at 0x7f7fd1116070>"
      ]
     },
     "execution_count": 16,
     "metadata": {},
     "output_type": "execute_result"
    }
   ],
   "source": [
    "### calculate correlation matrix in January\n",
    "R_JAN=np.ma.corrcoef(JAN,allow_masked=True) \n",
    "df=pd.DataFrame(R_JAN,index=stn,columns=stn);\n",
    "df.style"
   ]
  },
  {
   "cell_type": "code",
   "execution_count": 17,
   "metadata": {},
   "outputs": [
    {
     "name": "stdout",
     "output_type": "stream",
     "text": [
      "Atlanta and Boston appears to be positively correlated (r=0.61) during winter months. \n"
     ]
    }
   ],
   "source": [
    "print('Atlanta and Boston appears to be positively correlated (r=0.61) during winter months. ')"
   ]
  },
  {
   "cell_type": "code",
   "execution_count": 18,
   "metadata": {},
   "outputs": [
    {
     "data": {
      "image/png": "[encoded data removed]",
      "text/plain": [
       "<Figure size 432x288 with 1 Axes>"
      ]
     },
     "metadata": {
      "needs_background": "light"
     },
     "output_type": "display_data"
    }
   ],
   "source": [
    "plt.plot(JAN[0,:],JAN[1,:],'o')\n",
    "plt.xlabel('Atlanta')\n",
    "plt.ylabel('Boston');"
   ]
  },
  {
   "cell_type": "code",
   "execution_count": null,
   "metadata": {},
   "outputs": [],
   "source": []
  }
 ],
 "metadata": {
  "kernelspec": {
   "display_name": "Python 3",
   "language": "python",
   "name": "python3"
  },
  "language_info": {
   "codemirror_mode": {
    "name": "ipython",
    "version": 3
   },
   "file_extension": ".py",
   "mimetype": "text/x-python",
   "name": "python",
   "nbconvert_exporter": "python",
   "pygments_lexer": "ipython3",
   "version": "3.8.3"
  }
 },
 "nbformat": 4,
 "nbformat_minor": 4
}
