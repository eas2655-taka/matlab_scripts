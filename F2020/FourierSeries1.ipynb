{
 "cells": [
  {
   "cell_type": "markdown",
   "metadata": {},
   "source": [
    "### Discrete Fourier Series"
   ]
  },
  {
   "cell_type": "code",
   "execution_count": null,
   "metadata": {},
   "outputs": [],
   "source": [
    "import numpy as np\n",
    "import matplotlib.pyplot as plt\n",
    "plt.style.use('dark_background')"
   ]
  },
  {
   "cell_type": "markdown",
   "metadata": {},
   "source": [
    "### load Atlanta temperature data\n",
    "For now we focus on the January temperature data.  Also assign the number of data points to N.  a0 is the mean temperature"
   ]
  },
  {
   "cell_type": "code",
   "execution_count": null,
   "metadata": {},
   "outputs": [],
   "source": [
    "atl=np.genfromtxt('DATA/atlanta_temperature.tsv',delimiter='\\t')\n",
    "year=atl[0:140,0]\n",
    "jan=atl[0:140,1]\n",
    "N=np.size(year)\n",
    "a0=np.mean(jan)"
   ]
  },
  {
   "cell_type": "markdown",
   "metadata": {},
   "source": [
    "### set up the matrix\n",
    "This is the heart of DFS.  Just like multiple linear regression, we are using the \"E\" matrix to represent the basis as column vectors to expand the observation \"y\" (Atlanta's temperature data). In this case, the basis are the cosine and sine functions. "
   ]
  },
  {
   "cell_type": "code",
   "execution_count": null,
   "metadata": {},
   "outputs": [],
   "source": [
    "sN=np.sqrt(N/2) # Normalization factor\n",
    "E=np.ones((N,N))\n",
    "for n in np.arange(0,N/2,1):\n",
    "    E[:,int(n)*2-1]=1/(sN)*np.cos(2*np.pi*(n+1)*year/N)\n",
    "    E[:,int(n)*2]=1/(sN)*np.sin(2*np.pi*(n+1)*year/N)"
   ]
  },
  {
   "cell_type": "markdown",
   "metadata": {},
   "source": [
    "### Now, take the projection of the temperature onto the Fourier basis functions\n",
    "This is done through taking the inner product of column vector and the observations"
   ]
  },
  {
   "cell_type": "code",
   "execution_count": null,
   "metadata": {},
   "outputs": [],
   "source": [
    "### since the column space of E is orthonormal basis, you don't need pseudo inverse. This is the Fourier coefficients.  \n",
    "avec=E.T@jan ## This is the Atlanta temperature in Frequency domain"
   ]
  },
  {
   "cell_type": "markdown",
   "metadata": {},
   "source": [
    "### Let's plot the raw data and its Discrete Fourier Series to validate your calculation"
   ]
  },
  {
   "cell_type": "code",
   "execution_count": null,
   "metadata": {},
   "outputs": [],
   "source": [
    "plt.plot(year,jan) ## plot the raw data\n",
    "# here can you remove certain frequecy component\n",
    "#avec[21:140]=0\n",
    "plt.plot(year,E@avec+a0) ## overlay the inverse Fourier series, confirm that they are the same\n",
    "plt.legend(['Raw data','Inverse Fourier Series']);\n",
    "plt.xlabel('time')\n",
    "plt.ylabel('temperature')"
   ]
  },
  {
   "cell_type": "markdown",
   "metadata": {},
   "source": [
    "### Let's look at the avec. This is the Atlanta temperature in Frequency domain"
   ]
  },
  {
   "cell_type": "code",
   "execution_count": null,
   "metadata": {},
   "outputs": [],
   "source": [
    "plt.plot(avec,'o')"
   ]
  },
  {
   "cell_type": "code",
   "execution_count": null,
   "metadata": {},
   "outputs": [],
   "source": []
  }
 ],
 "metadata": {
  "kernelspec": {
   "display_name": "Python 3",
   "language": "python",
   "name": "python3"
  },
  "language_info": {
   "codemirror_mode": {
    "name": "ipython",
    "version": 3
   },
   "file_extension": ".py",
   "mimetype": "text/x-python",
   "name": "python",
   "nbconvert_exporter": "python",
   "pygments_lexer": "ipython3",
   "version": "3.8.3"
  }
 },
 "nbformat": 4,
 "nbformat_minor": 4
}
