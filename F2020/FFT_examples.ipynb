{
 "cells": [
  {
   "cell_type": "code",
   "execution_count": null,
   "metadata": {},
   "outputs": [],
   "source": [
    "### sample_hw7 - python"
   ]
  },
  {
   "cell_type": "code",
   "execution_count": null,
   "metadata": {},
   "outputs": [],
   "source": [
    "import numpy as np\n",
    "import matplotlib.pyplot as plt"
   ]
  },
  {
   "cell_type": "code",
   "execution_count": null,
   "metadata": {},
   "outputs": [],
   "source": [
    "### 1. define y(x)=cos(x)+sin(4x) in domain -10pi < x < +10pi for 0.1 increment"
   ]
  },
  {
   "cell_type": "code",
   "execution_count": null,
   "metadata": {},
   "outputs": [],
   "source": [
    "dt=0.1\n",
    "x=np.arange(-10*np.pi,+10*np.pi,dt)\n",
    "y=np.cos(x)+np.sin(4*x)\n",
    "plt.plot(x,y)\n",
    "plt.show()"
   ]
  },
  {
   "cell_type": "code",
   "execution_count": null,
   "metadata": {},
   "outputs": [],
   "source": [
    "### 2. calculate variance\n",
    "v0=np.var(y)\n",
    "print('variance of y is '+str(round(v0,3)))"
   ]
  },
  {
   "cell_type": "code",
   "execution_count": null,
   "metadata": {},
   "outputs": [],
   "source": [
    "### 3. perform FFT of y, Calculate variance in frequency domain. Confirm Perseval's theorem\n",
    "N=np.size(x)\n",
    "print('there are '+str(N)+' data points')\n",
    "yhat=np.fft.fft(y)"
   ]
  },
  {
   "cell_type": "code",
   "execution_count": null,
   "metadata": {},
   "outputs": [],
   "source": [
    "# let's look at the yhat itself first: real part\n",
    "plt.plot(yhat.real)\n",
    "plt.title('real part of y-hat')\n",
    "plt.show()\n",
    "# let's look at the yhat itself first: imaginary part\n",
    "plt.plot(yhat.imag)\n",
    "plt.title('imag part of y-hat')\n",
    "plt.show()"
   ]
  },
  {
   "cell_type": "code",
   "execution_count": null,
   "metadata": {},
   "outputs": [],
   "source": [
    "# let's look at the amplitude \n",
    "yhat2=yhat*np.conj(yhat)/N\n",
    "plt.plot(yhat2.real)\n",
    "plt.title('y-hat squared')\n",
    "plt.show()\n",
    "# Calculate variance in frequency domain. Confirm Perseval's theorem\n",
    "v1=np.sum(yhat2.real)/N\n",
    "print('variance based on yhat is '+str(round(v1,3)))"
   ]
  },
  {
   "cell_type": "code",
   "execution_count": null,
   "metadata": {},
   "outputs": [],
   "source": [
    "### 4. plot PSD (periodogram)\n",
    "freq0=1/N\n",
    "freq=np.arange(freq0,1/2,freq0)*1/dt\n",
    "PSD=yhat2[1:int((N-1)/2+1)]\n",
    "plt.plot(freq,PSD.real);\n",
    "plt.xlabel('frequyency')\n",
    "plt.ylabel('power density')\n",
    "plt.title('Periodogram')\n",
    "plt.show()"
   ]
  },
  {
   "cell_type": "code",
   "execution_count": null,
   "metadata": {},
   "outputs": [],
   "source": [
    "### 5. read in audio data\n",
    "fs=44100\n",
    "bw=np.genfromtxt('DATA/blue_whale_44100.tsv')\n",
    "bw1=bw[:,0]\n",
    "N=np.size(bw1)\n",
    "time=np.linspace(0,N/fs,N)\n",
    "plt.plot(time,bw1)\n",
    "plt.xlabel('time')\n",
    "plt.show()"
   ]
  },
  {
   "cell_type": "code",
   "execution_count": null,
   "metadata": {},
   "outputs": [],
   "source": [
    "### 6. perform the FFT\n",
    "bwhat=np.fft.fft(bw1)"
   ]
  },
  {
   "cell_type": "code",
   "execution_count": null,
   "metadata": {},
   "outputs": [],
   "source": [
    "### 7. Plot the periodogram\n",
    "freq=np.arange(fs/N,fs/2,fs/N)\n",
    "psd=bwhat*np.conj(bwhat)/N\n",
    "plt.loglog(freq,2*psd[1:int((N+1)/2)].real)\n",
    "plt.xlabel('frequency, Hz')\n",
    "plt.ylabel('power spectral density')\n",
    "plt.show()"
   ]
  },
  {
   "cell_type": "code",
   "execution_count": null,
   "metadata": {},
   "outputs": [],
   "source": []
  },
  {
   "cell_type": "code",
   "execution_count": null,
   "metadata": {},
   "outputs": [],
   "source": []
  },
  {
   "cell_type": "code",
   "execution_count": null,
   "metadata": {},
   "outputs": [],
   "source": []
  }
 ],
 "metadata": {
  "kernelspec": {
   "display_name": "Python 3",
   "language": "python",
   "name": "python3"
  },
  "language_info": {
   "codemirror_mode": {
    "name": "ipython",
    "version": 3
   },
   "file_extension": ".py",
   "mimetype": "text/x-python",
   "name": "python",
   "nbconvert_exporter": "python",
   "pygments_lexer": "ipython3",
   "version": "3.8.3"
  }
 },
 "nbformat": 4,
 "nbformat_minor": 4
}
