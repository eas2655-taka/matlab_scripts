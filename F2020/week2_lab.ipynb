{
 "cells": [
  {
   "cell_type": "markdown",
   "metadata": {},
   "source": [
    "# Week 2 lab exercise\n",
    "import libraries"
   ]
  },
  {
   "cell_type": "code",
   "execution_count": 1,
   "metadata": {},
   "outputs": [],
   "source": [
    "import numpy as np\n",
    "import matplotlib.pyplot as plt"
   ]
  },
  {
   "cell_type": "markdown",
   "metadata": {},
   "source": [
    "## read in the data, set up parameters"
   ]
  },
  {
   "cell_type": "code",
   "execution_count": 2,
   "metadata": {},
   "outputs": [],
   "source": [
    "data=np.genfromtxt('atlanta_temperature.tsv',delimiter='\\t')\n",
    "N=10\n",
    "K=10000;"
   ]
  },
  {
   "cell_type": "markdown",
   "metadata": {},
   "source": [
    "## extract july temperarture"
   ]
  },
  {
   "cell_type": "code",
   "execution_count": 4,
   "metadata": {},
   "outputs": [
    {
     "name": "stdout",
     "output_type": "stream",
     "text": [
      "mean july temp is 79.05602836879432deg F\n",
      "standard deviation is 2.0091411239464487deg F\n"
     ]
    }
   ],
   "source": [
    "july=data[:,7]\n",
    "mu=np.mean(july)\n",
    "sig=np.std(july)\n",
    "print('mean july temp is '+str(mu)+'deg F');\n",
    "print('standard deviation is '+str(sig)+'deg F');"
   ]
  },
  {
   "cell_type": "markdown",
   "metadata": {},
   "source": [
    "## Bootstrap method"
   ]
  },
  {
   "cell_type": "code",
   "execution_count": 6,
   "metadata": {},
   "outputs": [],
   "source": [
    "M=np.zeros(K)\n",
    "for k in range(0,K):\n",
    "    sampl=np.random.choice(july,10,replace=False)\n",
    "    M[k]=np.mean(sampl)"
   ]
  },
  {
   "cell_type": "markdown",
   "metadata": {},
   "source": [
    "## Mean of sample mean is true mean"
   ]
  },
  {
   "cell_type": "code",
   "execution_count": 10,
   "metadata": {},
   "outputs": [
    {
     "name": "stdout",
     "output_type": "stream",
     "text": [
      "Mean of sample mean is 79.066542\n"
     ]
    }
   ],
   "source": [
    "Mmean=np.mean(M)\n",
    "print('Mean of sample mean is '+str(Mmean))"
   ]
  },
  {
   "cell_type": "markdown",
   "metadata": {},
   "source": [
    "## Standard deviation of sample mean is standard error"
   ]
  },
  {
   "cell_type": "code",
   "execution_count": 17,
   "metadata": {},
   "outputs": [
    {
     "name": "stdout",
     "output_type": "stream",
     "text": [
      "sigma/sqrt(N) is 0.6353462092381443\n",
      "std of sample mean is 0.6239570355689562\n"
     ]
    }
   ],
   "source": [
    "Mstd=np.std(M)\n",
    "SE = sig/np.sqrt(N)\n",
    "print('std of sample mean is '+str(Mstd))\n",
    "print('sigma/sqrt(N) is '+str(SE))"
   ]
  },
  {
   "cell_type": "markdown",
   "metadata": {},
   "source": [
    "## Sample mean follows Gaussian distribution"
   ]
  },
  {
   "cell_type": "code",
   "execution_count": 22,
   "metadata": {},
   "outputs": [
    {
     "data": {
      "image/png": "[encoded data removed]",
      "text/plain": [
       "<Figure size 432x288 with 1 Axes>"
      ]
     },
     "metadata": {
      "needs_background": "light"
     },
     "output_type": "display_data"
    }
   ],
   "source": [
    "bins=np.arange(np.min(M),np.max(M),0.1);\n",
    "plt.hist(M,bins);\n",
    "x=bins;\n",
    "f=K*0.1/np.sqrt(2*np.pi)/SE*np.exp(-0.5*((x-mu)/SE)**2);\n",
    "plt.plot(x,f);\n",
    "plt.xlabel('july temperature, deg F')\n",
    "plt.ylabel('frequency');"
   ]
  },
  {
   "cell_type": "code",
   "execution_count": null,
   "metadata": {},
   "outputs": [],
   "source": []
  }
 ],
 "metadata": {
  "kernelspec": {
   "display_name": "Python 2",
   "language": "python",
   "name": "python2"
  },
  "language_info": {
   "codemirror_mode": {
    "name": "ipython",
    "version": 2
   },
   "file_extension": ".py",
   "mimetype": "text/x-python",
   "name": "python",
   "nbconvert_exporter": "python",
   "pygments_lexer": "ipython2",
   "version": "2.7.16"
  }
 },
 "nbformat": 4,
 "nbformat_minor": 2
}
